{
 "cells": [
  {
   "cell_type": "markdown",
   "metadata": {},
   "source": [
    "# iPlant Groep D\n",
    "# Classificatiemodel"
   ]
  },
  {
   "cell_type": "markdown",
   "metadata": {},
   "source": [
    "**Nodige modules importeren**"
   ]
  },
  {
   "cell_type": "code",
   "execution_count": 1,
   "metadata": {},
   "outputs": [],
   "source": [
    "import numpy as np\n",
    "import matplotlib.pyplot as plt\n",
    "import pandas as pd"
   ]
  },
  {
   "cell_type": "markdown",
   "metadata": {},
   "source": [
    "**Data uit bestand 'punten.dat' inlezen en weergeven in tabel**"
   ]
  },
  {
   "cell_type": "code",
   "execution_count": 2,
   "metadata": {},
   "outputs": [
    {
     "data": {
      "text/html": [
       "<div>\n",
       "<style scoped>\n",
       "    .dataframe tbody tr th:only-of-type {\n",
       "        vertical-align: middle;\n",
       "    }\n",
       "\n",
       "    .dataframe tbody tr th {\n",
       "        vertical-align: top;\n",
       "    }\n",
       "\n",
       "    .dataframe thead th {\n",
       "        text-align: right;\n",
       "    }\n",
       "</style>\n",
       "<table border=\"1\" class=\"dataframe\">\n",
       "  <thead>\n",
       "    <tr style=\"text-align: right;\">\n",
       "      <th></th>\n",
       "      <th>x</th>\n",
       "      <th>y</th>\n",
       "      <th>klasse</th>\n",
       "    </tr>\n",
       "  </thead>\n",
       "  <tbody>\n",
       "    <tr>\n",
       "      <th>0</th>\n",
       "      <td>0.0</td>\n",
       "      <td>6.0</td>\n",
       "      <td>blauw</td>\n",
       "    </tr>\n",
       "    <tr>\n",
       "      <th>1</th>\n",
       "      <td>0.5</td>\n",
       "      <td>5.0</td>\n",
       "      <td>blauw</td>\n",
       "    </tr>\n",
       "    <tr>\n",
       "      <th>2</th>\n",
       "      <td>3.0</td>\n",
       "      <td>13.0</td>\n",
       "      <td>blauw</td>\n",
       "    </tr>\n",
       "    <tr>\n",
       "      <th>3</th>\n",
       "      <td>2.5</td>\n",
       "      <td>9.0</td>\n",
       "      <td>blauw</td>\n",
       "    </tr>\n",
       "    <tr>\n",
       "      <th>4</th>\n",
       "      <td>1.8</td>\n",
       "      <td>3.2</td>\n",
       "      <td>blauw</td>\n",
       "    </tr>\n",
       "    <tr>\n",
       "      <th>5</th>\n",
       "      <td>13.0</td>\n",
       "      <td>18.0</td>\n",
       "      <td>blauw</td>\n",
       "    </tr>\n",
       "    <tr>\n",
       "      <th>6</th>\n",
       "      <td>6.5</td>\n",
       "      <td>11.0</td>\n",
       "      <td>blauw</td>\n",
       "    </tr>\n",
       "    <tr>\n",
       "      <th>7</th>\n",
       "      <td>11.0</td>\n",
       "      <td>14.0</td>\n",
       "      <td>blauw</td>\n",
       "    </tr>\n",
       "    <tr>\n",
       "      <th>8</th>\n",
       "      <td>9.5</td>\n",
       "      <td>8.0</td>\n",
       "      <td>blauw</td>\n",
       "    </tr>\n",
       "    <tr>\n",
       "      <th>9</th>\n",
       "      <td>14.0</td>\n",
       "      <td>4.5</td>\n",
       "      <td>blauw</td>\n",
       "    </tr>\n",
       "    <tr>\n",
       "      <th>10</th>\n",
       "      <td>6.5</td>\n",
       "      <td>3.5</td>\n",
       "      <td>blauw</td>\n",
       "    </tr>\n",
       "    <tr>\n",
       "      <th>11</th>\n",
       "      <td>-3.5</td>\n",
       "      <td>14.0</td>\n",
       "      <td>blauw</td>\n",
       "    </tr>\n",
       "    <tr>\n",
       "      <th>12</th>\n",
       "      <td>0.2</td>\n",
       "      <td>16.0</td>\n",
       "      <td>groen</td>\n",
       "    </tr>\n",
       "    <tr>\n",
       "      <th>13</th>\n",
       "      <td>1.8</td>\n",
       "      <td>13.0</td>\n",
       "      <td>groen</td>\n",
       "    </tr>\n",
       "    <tr>\n",
       "      <th>14</th>\n",
       "      <td>1.0</td>\n",
       "      <td>11.0</td>\n",
       "      <td>groen</td>\n",
       "    </tr>\n",
       "    <tr>\n",
       "      <th>15</th>\n",
       "      <td>1.0</td>\n",
       "      <td>10.0</td>\n",
       "      <td>groen</td>\n",
       "    </tr>\n",
       "    <tr>\n",
       "      <th>16</th>\n",
       "      <td>5.5</td>\n",
       "      <td>14.0</td>\n",
       "      <td>groen</td>\n",
       "    </tr>\n",
       "    <tr>\n",
       "      <th>17</th>\n",
       "      <td>4.3</td>\n",
       "      <td>11.5</td>\n",
       "      <td>groen</td>\n",
       "    </tr>\n",
       "    <tr>\n",
       "      <th>18</th>\n",
       "      <td>6.0</td>\n",
       "      <td>17.0</td>\n",
       "      <td>groen</td>\n",
       "    </tr>\n",
       "    <tr>\n",
       "      <th>19</th>\n",
       "      <td>4.0</td>\n",
       "      <td>18.0</td>\n",
       "      <td>groen</td>\n",
       "    </tr>\n",
       "    <tr>\n",
       "      <th>20</th>\n",
       "      <td>8.5</td>\n",
       "      <td>15.3</td>\n",
       "      <td>groen</td>\n",
       "    </tr>\n",
       "    <tr>\n",
       "      <th>21</th>\n",
       "      <td>0.9</td>\n",
       "      <td>7.0</td>\n",
       "      <td>groen</td>\n",
       "    </tr>\n",
       "  </tbody>\n",
       "</table>\n",
       "</div>"
      ],
      "text/plain": [
       "       x     y  klasse\n",
       "0    0.0   6.0  blauw \n",
       "1    0.5   5.0  blauw \n",
       "2    3.0  13.0  blauw \n",
       "3    2.5   9.0  blauw \n",
       "4    1.8   3.2  blauw \n",
       "5   13.0  18.0  blauw \n",
       "6    6.5  11.0  blauw \n",
       "7   11.0  14.0  blauw \n",
       "8    9.5   8.0   blauw\n",
       "9   14.0   4.5   blauw\n",
       "10   6.5   3.5   blauw\n",
       "11  -3.5  14.0   blauw\n",
       "12   0.2  16.0   groen\n",
       "13   1.8  13.0   groen\n",
       "14   1.0  11.0   groen\n",
       "15   1.0  10.0   groen\n",
       "16   5.5  14.0   groen\n",
       "17   4.3  11.5   groen\n",
       "18   6.0  17.0   groen\n",
       "19   4.0  18.0   groen\n",
       "20   8.5  15.3   groen\n",
       "21   0.9   7.0   groen"
      ]
     },
     "execution_count": 2,
     "metadata": {},
     "output_type": "execute_result"
    }
   ],
   "source": [
    "punten = pd.read_csv('punten.dat') \n",
    "punten"
   ]
  },
  {
   "cell_type": "markdown",
   "metadata": {},
   "source": [
    "**Er zijn 2 kenmerken: x en y <br>\n",
    "Het label 'klasse' neemt 2 waarden aan, 'groen' of 'blauw'.**\n",
    "\n",
    "**De kenmerken x en y, respectievelijk x1 en x2, omzetten naar kolommen in NumPy-matrix X**"
   ]
  },
  {
   "cell_type": "code",
   "execution_count": 4,
   "metadata": {},
   "outputs": [
    {
     "name": "stdout",
     "output_type": "stream",
     "text": [
      "[[ 0.   6. ]\n",
      " [ 0.5  5. ]\n",
      " [ 3.  13. ]\n",
      " [ 2.5  9. ]\n",
      " [ 1.8  3.2]\n",
      " [13.  18. ]\n",
      " [ 6.5 11. ]\n",
      " [11.  14. ]\n",
      " [ 9.5  8. ]\n",
      " [14.   4.5]\n",
      " [ 6.5  3.5]\n",
      " [-3.5 14. ]\n",
      " [ 0.2 16. ]\n",
      " [ 1.8 13. ]\n",
      " [ 1.  11. ]\n",
      " [ 1.  10. ]\n",
      " [ 5.5 14. ]\n",
      " [ 4.3 11.5]\n",
      " [ 6.  17. ]\n",
      " [ 4.  18. ]\n",
      " [ 8.5 15.3]\n",
      " [ 0.9  7. ]]\n"
     ]
    }
   ],
   "source": [
    "x1 = np.array(punten['x'])\n",
    "x2 = np.array(punten['y'])\n",
    "X  = np.stack((x1,x2), axis=1) # axis=1 stelt x1 en x2 als kolommen in de nieuwe matrix\n",
    "print(X)"
   ]
  },
  {
   "cell_type": "markdown",
   "metadata": {},
   "source": [
    "**Data weergeven in een puntenwolk**"
   ]
  },
  {
   "cell_type": "code",
   "execution_count": 5,
   "metadata": {},
   "outputs": [
    {
     "data": {
      "image/png": "[encoded data removed]",
      "text/plain": [
       "<Figure size 864x576 with 1 Axes>"
      ]
     },
     "metadata": {
      "needs_background": "light"
     },
     "output_type": "display_data"
    }
   ],
   "source": [
    "plt.figure(figsize=(12,8))     \n",
    "\n",
    "plt.scatter(x1[:12], x2[:12], color=\"blue\", marker=\"o\")      # de eerste 11 metingen hebben klasse blauw\n",
    "plt.scatter(x1[12:], x2[12:], color=\"green\", marker=\"o\")     # de rest heeft dus klasse groen\n",
    "plt.xticks(np.arange(-4,16,1))\n",
    "plt.yticks(np.arange(0,19,1))\n",
    "plt.grid(axis='both',alpha=0.3)\n",
    "\n",
    "plt.show()"
   ]
  },
  {
   "cell_type": "markdown",
   "metadata": {},
   "source": [
    "**De punten zijn duidelijk niet lineair scheidbaar. <br>\n",
    "Bijgevolg construeren we een gebroken scheidingsrechte die wel kan fungeren als decision boundary**"
   ]
  },
  {
   "cell_type": "code",
   "execution_count": 6,
   "metadata": {},
   "outputs": [],
   "source": [
    "# domeinen van de verschillende lijnstukken\n",
    "\n",
    "x_1 = np.linspace(-3,1,10)     \n",
    "x_2 = np.linspace(1,3,10)\n",
    "x_3 = np.linspace(3,4,10)\n",
    "x_4 = np.linspace(4,12,10)\n",
    "\n",
    "# vergelijkingen van de respectievelijke lijnstukken\n",
    "\n",
    "y_1 = -2.5*x_1 + 7.5     # vgl rechte door de punten (-3,15) (1,5)\n",
    "y_2 = 5*x_2              # vgl rechte door de punten (1,5)   (3,15)\n",
    "y_3 = -6*x_3 + 33        # vgl rechte door de punten (3,15)  (4,9)\n",
    "y_4 = 1.25*x_4 + 4       # vgl rechte door de punten (4,9)   (8,14)"
   ]
  },
  {
   "cell_type": "markdown",
   "metadata": {},
   "source": [
    "**Puntenwolk met decision boundary weergeven**"
   ]
  },
  {
   "cell_type": "code",
   "execution_count": 7,
   "metadata": {},
   "outputs": [
    {
     "data": {
      "image/png": "[encoded data removed]",
      "text/plain": [
       "<Figure size 864x576 with 1 Axes>"
      ]
     },
     "metadata": {
      "needs_background": "light"
     },
     "output_type": "display_data"
    }
   ],
   "source": [
    "plt.figure(figsize=(12,8))\n",
    "\n",
    "# datapunten\n",
    "plt.scatter(x1[:12], x2[:12], color=\"blue\", marker=\"o\")\n",
    "plt.scatter(x1[12:], x2[12:], color=\"green\", marker=\"o\")\n",
    "\n",
    "# decision boundary\n",
    "plt.plot(x_1, y_1,color='gray')\n",
    "plt.plot(x_2, y_2,color='gray')\n",
    "plt.plot(x_3, y_3,color='gray')\n",
    "plt.plot(x_4, y_4,color='gray')\n",
    "\n",
    "plt.show()"
   ]
  },
  {
   "cell_type": "markdown",
   "metadata": {},
   "source": [
    "**We splitsen nu de waarden op in 2 deeldomeinen. <br>Op die manier is het classificatieprobleem herleid naar 2 kleinere problemen die gemakkelijker om handen zijn voor het classificatiemodel.<br> \n",
    "We kiezen hierbij de x-waarde van de top tussen de 2de en 3de scheidingsrechte als grenspunt: $\\mathbf{x_{1}= 3}$**<br>"
   ]
  },
  {
   "cell_type": "code",
   "execution_count": 8,
   "metadata": {},
   "outputs": [
    {
     "data": {
      "image/png": "[encoded data removed]",
      "text/plain": [
       "<Figure size 864x576 with 1 Axes>"
      ]
     },
     "metadata": {
      "needs_background": "light"
     },
     "output_type": "display_data"
    }
   ],
   "source": [
    "plt.figure(figsize=(12,8))\n",
    "\n",
    "# datapunten\n",
    "plt.scatter(x1[:12], x2[:12], color=\"blue\", marker=\"o\")\n",
    "plt.scatter(x1[12:], x2[12:], color=\"green\", marker=\"o\")\n",
    "\n",
    "# decision boundary\n",
    "plt.plot(x_1, y_1,color='gray')\n",
    "plt.plot(x_2, y_2,color='gray')\n",
    "plt.plot(x_3, y_3,color='gray')\n",
    "plt.plot(x_4, y_4,color='gray')\n",
    "\n",
    "# grafiek opdelen in 2 deeldomeinen in x1 = 3\n",
    "plt.plot([3,3],[19,2],c='r')\n",
    "\n",
    "plt.show()"
   ]
  },
  {
   "cell_type": "markdown",
   "metadata": {},
   "source": [
    "**Tussen de input- en hidden layer worden lineaire combinaties gemaakt met de punten en de bijhorende weights en bias. Deze weights en bias zijn de coëfficiënten uit de vergelijkingen van de 4 scheidingsrechten. De lineaire combinaties worden gemaakt met behulp van matrixvermenigvuldiging.**"
   ]
  },
  {
   "cell_type": "code",
   "execution_count": 9,
   "metadata": {},
   "outputs": [],
   "source": [
    "wih_d1 = np.array([[-2.5, -1], [5, -1]])\n",
    "bih_d1 = np.array([[7.5],[0]])\n",
    "wih_d2 = np.array([[-6, -1], [1.25, -1]])\n",
    "bih_d2 = np.array([[33],[4]])"
   ]
  },
  {
   "cell_type": "markdown",
   "metadata": {},
   "source": [
    "**Activatiefuncties:**"
   ]
  },
  {
   "cell_type": "code",
   "execution_count": 10,
   "metadata": {},
   "outputs": [],
   "source": [
    "def deeldomein(matrix):\n",
    "    \"\"\"Bepaalt in welk deeldomein het punt hoort. Levert 0 of 1 voor respectievelijk x1 < 3 en x1 >= 3.\"\"\"\n",
    "    return np.heaviside(x1-3,1)\n",
    "\n",
    "def relu(x):\n",
    "    \"\"\"Zet negatieve waarden op 0. ReLU(x) = max(0,x)\"\"\"\n",
    "    return np.maximum(0,x)\n",
    "\n",
    "def heaviside(x):\n",
    "    \"\"\"Geeft 0 voor negatieve waarden en 1 voor positieve waarden\"\"\"\n",
    "    return np.heaviside(x,0)"
   ]
  },
  {
   "cell_type": "markdown",
   "metadata": {},
   "source": [
    "**Hidden layer:**"
   ]
  },
  {
   "cell_type": "code",
   "execution_count": 11,
   "metadata": {},
   "outputs": [
    {
     "name": "stdout",
     "output_type": "stream",
     "text": [
      "[[ 1.5    1.25   2.     0.     0.     0.     0.     0.     0.     0.\n",
      "   0.     2.25   0.     0.     0.     0.     0.     0.     0.     0.\n",
      "   0.     0.   ]\n",
      " [ 0.     0.     0.     3.5    5.8    2.25   1.125  3.75   7.875 17.\n",
      "   8.625  0.     0.     0.     0.     0.     0.     0.     0.     0.\n",
      "   0.     0.   ]]\n"
     ]
    }
   ],
   "source": [
    "# lineaire combinaties van de punten met de bijhorende weights voor het 1ste deeldomein.\n",
    "# de factor met de pseudo-activatiefunctie 'deeldomein' zorgt ervoor dat enkel deze punten binnen het domein in acht worden genomen.\n",
    "hidden_input_d1 = (np.dot(wih_d1,X.T)+bih_d1) * (1-deeldomein(X))\n",
    "hidden_input_d2 = (np.dot(wih_d2,X.T)+bih_d2) * deeldomein(X)\n",
    "\n",
    "# Als de waarde van deze lineaire combinatie positief is betekent het dat het punt in kwestie boven de scheidingsrechte ligt.\n",
    "# De negatieve waarden liggen eronder en worden op 0 gezet door de ReLU-activatiefunctie.\n",
    "hidden_output_d1 = relu(hidden_input_d1)\n",
    "hidden_output_d2 = relu(hidden_input_d2)\n",
    "\n",
    "hidden_output = hidden_output_d1 + hidden_output_d2\n",
    "print(hidden_output)"
   ]
  },
  {
   "cell_type": "markdown",
   "metadata": {},
   "source": [
    "**Uitvoerlaag:**\n",
    "\n",
    "**Elk van de 2 outputs van de hidden layer toont voor de punten binnen diens domein een strikt positieve waarde aan waar het punt boven de decision boundary (groen) ligt, elders (blauw) is die waarde exact 0. We stellen deze klasse voor met 0, en de punten onder de rechte met 1.**"
   ]
  },
  {
   "cell_type": "code",
   "execution_count": 12,
   "metadata": {},
   "outputs": [
    {
     "data": {
      "image/png": "[encoded data removed]",
      "text/plain": [
       "<Figure size 864x576 with 1 Axes>"
      ]
     },
     "metadata": {
      "needs_background": "light"
     },
     "output_type": "display_data"
    }
   ],
   "source": [
    "who = np.array([1,1]) # weights tussen hidden en output layer\n",
    "final_input = np.dot(who,hidden_output)\n",
    "\n",
    "plt.figure(figsize=(12,8))\n",
    "\n",
    "plt.scatter(x1[:12], final_input[:12], color=\"blue\", marker=\"o\")\n",
    "plt.scatter(x1[12:], final_input[12:], color=\"green\", marker=\"o\")\n",
    "\n",
    "plt.show()"
   ]
  },
  {
   "cell_type": "markdown",
   "metadata": {},
   "source": [
    "**De uitvoerlaag neemt dus de som van de outputs van de hidden layer en geeft na toepassen van de Heaviside-activatiefunctie de klasse terug:**"
   ]
  },
  {
   "cell_type": "code",
   "execution_count": 13,
   "metadata": {},
   "outputs": [
    {
     "data": {
      "text/plain": [
       "array([1, 1, 1, 1, 1, 1, 1, 1, 1, 1, 1, 1, 0, 0, 0, 0, 0, 0, 0, 0, 0, 0])"
      ]
     },
     "execution_count": 13,
     "metadata": {},
     "output_type": "execute_result"
    }
   ],
   "source": [
    "final_output = np.heaviside(final_input,0).astype(int)\n",
    "final_output"
   ]
  },
  {
   "cell_type": "markdown",
   "metadata": {},
   "source": [
    "**Deze klassen komen overeen met de gegeven labels.**"
   ]
  },
  {
   "cell_type": "markdown",
   "metadata": {},
   "source": [
    "**Gieten we nu alles samen in een classificatiemodel:**"
   ]
  },
  {
   "cell_type": "code",
   "execution_count": 14,
   "metadata": {},
   "outputs": [],
   "source": [
    "def deeldomein(matrix):\n",
    "    \"\"\"Bepaalt in welk deeldomein het punt hoort. Levert 1 voor x1 >= 3 en 0 voor x1 < 3.\"\"\"\n",
    "    return np.heaviside(matrix[0]-3,1)\n",
    "\n",
    "def relu(x):\n",
    "    \"\"\"Zet negatieve waarden op 0. ReLU(x) = max(0,x)\"\"\"\n",
    "    return np.maximum(0,x)\n",
    "\n",
    "def heaviside(x):\n",
    "    \"\"\"Geeft 0 voor negatieve waarden en 1 voor positieve waarden\"\"\"\n",
    "    return np.heaviside(x,0)[0]\n",
    "\n",
    "class Model():\n",
    "    \n",
    "    def __init__(self):\n",
    "        \n",
    "        self.wih_d1 = np.array([[-2.5, -1], [5, -1]])    # weights tussen input en hidden layer voor deeldomein 1\n",
    "        self.bih_d1 = np.array([[7.5],[0]])              # bias tussen input en hidden layer voor deeldomein 1\n",
    "        self.wih_d2 = np.array([[-6, -1], [1.25, -1]])   # weights tussen input en hidden layer voor deeldomein 2\n",
    "        self.bih_d2 = np.array([[33],[4]])               # bias tussen input en hidden layer voor deeldomein 2\n",
    "        \n",
    "        self.who = np.array([1,1])                       # weights tussen hidden layer en output layer\n",
    "        \n",
    "        self.activatiefunctie_hidden = relu              # activatie-functie van de hidden layer\n",
    "        self.activatiefunctie_output = heaviside         # activatie-functie van de output layer\n",
    "       \n",
    "    def predict(self, kenmerken, stringoutput=False):\n",
    "        \n",
    "        input = np.array(kenmerken, ndmin=2).T           # transponeren om te kunnen vermenigvuldigen\n",
    "        \n",
    "        hidden_input_d1 = (np.dot(self.wih_d1, input) + self.bih_d1) * (1-deeldomein(input))\n",
    "        hidden_input_d2 = (np.dot(self.wih_d2, input) + self.bih_d2) * deeldomein(input)\n",
    "        \n",
    "        hidden_output_d1 = self.activatiefunctie_hidden(hidden_input_d1)\n",
    "        hidden_output_d2 = self.activatiefunctie_hidden(hidden_input_d2)\n",
    "        hidden_output = hidden_output_d1 + hidden_output_d2\n",
    "        \n",
    "        final_input = np.dot(self.who, hidden_output)\n",
    "        final_output = self.activatiefunctie_output(final_input)\n",
    "        \n",
    "        return int(final_output.item())*'blauw' + (1-int(final_output.item()))*'groen' if stringoutput else final_output"
   ]
  },
  {
   "cell_type": "markdown",
   "metadata": {},
   "source": [
    "**Het model uittesten voor bepaalde waarde**"
   ]
  },
  {
   "cell_type": "code",
   "execution_count": 15,
   "metadata": {},
   "outputs": [
    {
     "name": "stdout",
     "output_type": "stream",
     "text": [
      "x-waarde:7\n",
      "y-waarde:3\n",
      "De geschatte klasse voor het punt (7,3) is blauw\n"
     ]
    }
   ],
   "source": [
    "model = Model()\n",
    "a,b = float(input('x-waarde:')), float(input('y-waarde:'))\n",
    "print('De geschatte klasse voor het punt (%d,%d) is %s' %(a, b, model.predict(np.array([a,b]),stringoutput=True)))"
   ]
  },
  {
   "cell_type": "markdown",
   "metadata": {},
   "source": [
    "**Visuele voorstelling van het model**"
   ]
  },
  {
   "cell_type": "code",
   "execution_count": 18,
   "metadata": {},
   "outputs": [
    {
     "data": {
      "image/png": "[encoded data removed]",
      "text/plain": [
       "<Figure size 864x576 with 1 Axes>"
      ]
     },
     "metadata": {},
     "output_type": "display_data"
    }
   ],
   "source": [
    "# raster maken met resolutie 0.2\n",
    "xx1 = np.arange(x1.min()-1, x1.max()+1, 0.2)\n",
    "xx2 = np.arange(x2.min()-1, x2.max()+4, 0.2)  \n",
    "\n",
    "# domeinen van de verschillende lijnstukken\n",
    "x_1 = np.linspace(-5,1,10)     \n",
    "x_2 = np.linspace(1,3,10)\n",
    "x_3 = np.linspace(3,4,10)\n",
    "x_4 = np.linspace(4,14,10)\n",
    "\n",
    "# vergelijkingen van de respectievelijke lijnstukken\n",
    "y_1 = -2.5*x_1 + 7.5     # vgl rechte door de punten (-3,15) (1,5)\n",
    "y_2 = 5*x_2              # vgl rechte door de punten (1,5)   (3,15)\n",
    "y_3 = -6*x_3 + 33        # vgl rechte door de punten (3,15)  (4,9)\n",
    "y_4 = 1.25*x_4 + 4       # vgl rechte door de punten (4,9)   (8,14)\n",
    "\n",
    "plt.figure(figsize=(12,8))\n",
    "\n",
    "# klassezones inkleuren\n",
    "for a in xx1:\n",
    "    for b in xx2:\n",
    "        A = np.array([a, b])\n",
    "        if model.predict(A) == 0:\n",
    "            kleur = \"lightgreen\"\n",
    "        else:\n",
    "            kleur = \"lightblue\"\n",
    "        plt.plot(a, b, marker='.', color=kleur,zorder=1)\n",
    "        \n",
    "# decision boundary\n",
    "plt.plot(x_1, y_1,color='black',zorder=5)          \n",
    "plt.plot(x_2, y_2,color='black',zorder=5)\n",
    "plt.plot(x_3, y_3,color='black',zorder=5)\n",
    "plt.plot(x_4, y_4,color='black',zorder=5)\n",
    "        \n",
    "# datapunten\n",
    "plt.scatter(x1[:12], x2[:12], color=\"blue\", marker=\"o\",zorder=10)    \n",
    "plt.scatter(x1[12:], x2[12:], color=\"green\", marker=\"o\",zorder=10)\n",
    "\n",
    "plt.ylim(np.min(x2)-1,np.max(x2)+1)\n",
    "plt.xlim(np.min(x1)-1,np.max(x1)+1)\n",
    "plt.xticks([])\n",
    "plt.yticks([])\n",
    "\n",
    "plt.show()"
   ]
  },
  {
   "cell_type": "code",
   "execution_count": null,
   "metadata": {},
   "outputs": [],
   "source": []
  }
 ],
 "metadata": {
  "kernelspec": {
   "display_name": "Python 3",
   "language": "python",
   "name": "python3"
  },
  "language_info": {
   "codemirror_mode": {
    "name": "ipython",
    "version": 3
   },
   "file_extension": ".py",
   "mimetype": "text/x-python",
   "name": "python",
   "nbconvert_exporter": "python",
   "pygments_lexer": "ipython3",
   "version": "3.8.3"
  }
 },
 "nbformat": 4,
 "nbformat_minor": 4
}
